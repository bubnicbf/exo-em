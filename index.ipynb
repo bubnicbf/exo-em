{
 "cells": [
  {
   "cell_type": "markdown",
   "metadata": {},
   "source": [
    "<a href=\"http://em.geosci.xyz\"><img src=\"./images/emgeosci.png\" style=\"width: 30%; height: 30%\"></img></a>"
   ]
  },
  {
   "cell_type": "markdown",
   "metadata": {},
   "source": [
    "# em.geosci examples\n",
    "\n",
    "This is a compilation of notebooks to support the open source resource for em geophysics **<a href=\"http://em.geosci.xyz\">em.geosci.xyz</a>**. They are \n",
    "\n",
    "They use <a href=\"http://simpeg.xzy\">SimPEG</a>, an open source framework for Simulation and Parameter Estimation in Geophysics. "
   ]
  },
  {
   "cell_type": "markdown",
   "metadata": {},
   "source": [
    "## Contents\n",
    "\n",
    "### Maxwell 1: Fundamentals\n",
    "\n",
    "- <a href=\"notebooks/maxwell1_fundamentals/Magnetic_Dipole_Harmonic.ipynb\">Harmonic Magnetic Dipole</a>\n",
    "\n",
    "### Geophysical Surveys\n",
    "\n",
    "- <a href=\"notebooks/geophysical_surveys/DCR Pseudo-section Simulation.ipynb>DCR Pseudo-section Simulation</a>\n"
   ]
  },
  {
   "cell_type": "markdown",
   "metadata": {},
   "source": [
    "View the notebooks on <a href=\"http://github.com/ubcgif/em_examples\">github</a>"
   ]
  },
  {
   "cell_type": "markdown",
   "metadata": {},
   "source": [
    "## We love open source!\n",
    "\n",
    "<a rel=\"license\" href=\"http://creativecommons.org/licenses/by/4.0/\"><img alt=\"Creative Commons License\" style=\"border-width:0\" src=\"https://i.creativecommons.org/l/by/4.0/88x31.png\" /></a><br />This work is licensed under a <a rel=\"license\" href=\"http://creativecommons.org/licenses/by/4.0/\">Creative Commons Attribution 4.0 International License</a>."
   ]
  }
 ],
 "metadata": {
  "kernelspec": {
   "display_name": "Python 2",
   "language": "python",
   "name": "python2"
  },
  "language_info": {
   "codemirror_mode": {
    "name": "ipython",
    "version": 2
   },
   "file_extension": ".py",
   "mimetype": "text/x-python",
   "name": "python",
   "nbconvert_exporter": "python",
   "pygments_lexer": "ipython2",
   "version": "2.7.11"
  }
 },
 "nbformat": 4,
 "nbformat_minor": 0
}
