{
 "cells": [
  {
   "cell_type": "markdown",
   "metadata": {},
   "source": [
    "<a href=\"http://em.geosci.xyz\"><img src=\"./images/emgeosci.png\" style=\"width: 25%; height: 25%\" align=\"right\"></img></a>\n",
    "\n",
    "# EM.geosci examples\n",
    "\n",
    "The purpose of these notebooks is to provide tools for you to investigate fundamental concepts in electromagnetic geophysics. They support **<a href=\"http://em.geosci.xyz\">em.geosci.xyz</a>**, an open source \"textbook\" resource for electromagnetic geophysics.  \n",
    "\n",
    "These notebooks are powered by <a href=\"http://simpeg.xzy\">SimPEG</a>, an open source framework for Simulation and Parameter Estimation in Geophysics.\n",
    "\n",
    "If you have feedback, we would like to hear from you! \n",
    "- <a href=\"http://geosci.xyz/contact\">Contact us</a>\n",
    "- <a href=\"https://github.com/ubcgif/em_examples/issues\">Report issues</a>\n",
    "- <a href=\"https://github.com/ubcgif/em_examples/\">Join the development</a>"
   ]
  },
  {
   "cell_type": "markdown",
   "metadata": {},
   "source": [
    "## Contents\n",
    "\n",
    "Each of the following titles is linked back to the corresponding section in <a href=\"http://em.geosci.xyz\">EM.geosci.xyz</a> and the bullet points below contain links to notebooks. \n",
    "\n",
    "#### <a href=\"http://em.geosci.xyz/content/physical_properties/index.html\">Physical Properties</a>\n",
    "\n",
    "- <a href=\"notebooks/physical_properties/ColeCole.ipynb\"> Cole-Cole response</a> - Complex conductivity \n",
    "\n",
    "#### <a href=\"http://em.geosci.xyz/content/maxwell1_fundamentals/index.html\">Maxwell 1: Fundamentals</a>\n",
    "\n",
    "- <a href=\"notebooks/maxwell1_fundamentals/Magnetic_Dipole_Harmonic.ipynb\">Harmonic Magnetic Dipole</a>\n",
    "\n",
    "#### <a href=\"http://em.geosci.xyz/content/maxwell2_dc/index.html\">Maxwell 2: DC</a>\n",
    "\n",
    "- <a href=\"notebooks/Maxwell2_DC/ElectrostaticSphere_example.ipynb\">Electrostatic Sphere</a>\n",
    "- <a href=\"notebooks/Maxwell2_DC/DCLab.ipynb\">Layered Earth</a>\n",
    "\n",
    "#### <a href=\"http://em.geosci.xyz/content/maxwell3_fdem/index.html\">Maxwell 3: FDEM</a>\n",
    "\n",
    "#### <a href=\"http://em.geosci.xyz/content/maxwell4_tdem/index.html\">Maxwell 4: FDEM</a>\n",
    "\n",
    "#### <a href=\"http://em.geosci.xyz/content/geophysical_surveys/index.html\">Geophysical Surveys</a>\n",
    "\n",
    "- <a href=\"notebooks/geophysical_surveys/DCR_Pseudo-section_Simulation.ipynb\">DCR Pseudo-section Simulation</a> - broken at the moment\n",
    "- <a href=\"notebooks/geophysical_surveys/MT_n_layered_earth_example.ipynb\">MT n-layer earth example</a>\n",
    "\n",
    "#### <a href=\"http://em.geosci.xyz/content/case_histories/index.html\">Case Histories</a>\n",
    "\n"
   ]
  },
  {
   "cell_type": "markdown",
   "metadata": {},
   "source": [
    "#### <center>We love open source!</center>\n",
    "\n",
    "<center><a rel=\"license\" href=\"http://creativecommons.org/licenses/by/4.0/\"><img alt=\"Creative Commons License\" style=\"border-width:0\" width=60 src=\"https://i.creativecommons.org/l/by/4.0/88x31.png\" /></a> \n",
    "\n",
    "This work is licensed under a <a rel=\"license\" href=\"http://creativecommons.org/licenses/by/4.0/\">Creative Commons Attribution 4.0 International License</a>.</center>"
   ]
  }
 ],
 "metadata": {
  "kernelspec": {
   "display_name": "Python 2",
   "language": "python",
   "name": "python2"
  },
  "language_info": {
   "codemirror_mode": {
    "name": "ipython",
    "version": 2
   },
   "file_extension": ".py",
   "mimetype": "text/x-python",
   "name": "python",
   "nbconvert_exporter": "python",
   "pygments_lexer": "ipython2",
   "version": "2.7.11"
  }
 },
 "nbformat": 4,
 "nbformat_minor": 0
}
