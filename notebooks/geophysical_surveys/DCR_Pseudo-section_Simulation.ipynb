{
 "cells": [
  {
   "cell_type": "markdown",
   "metadata": {},
   "source": [
    "# DCR Pseudo-section Simulation"
   ]
  },
  {
   "cell_type": "code",
   "execution_count": null,
   "metadata": {
    "collapsed": false
   },
   "outputs": [],
   "source": [
    "from SimPEG import *\n",
    "from SimPEG.Examples import DC_Forward_PseudoSection\n",
    "\n",
    "from ipywidgets import interactive, FloatText, FloatSlider, ToggleButtons #interactive plots!\n",
    "\n",
    "%matplotlib inline"
   ]
  },
  {
   "cell_type": "code",
   "execution_count": null,
   "metadata": {
    "collapsed": false
   },
   "outputs": [],
   "source": [
    "fig, ax = DC_Forward_PseudoSection.run()"
   ]
  },
  {
   "cell_type": "markdown",
   "metadata": {},
   "source": [
    "Now that we have a tool to forward model data in 3D space, we can experiment with different survey configurations.\n",
    "\n",
    "We here give the two options:\n",
    "pole-dipole (pdp) or dipole-dipole (dpdp).\n",
    "\n",
    "In both cases we need to specify three important parameter.\n",
    "\n",
    "a: Transmitter and receivers seperation (m)\n",
    "\n",
    "b: Dipole seperation (m)\n",
    "\n",
    "n: Number of receiver dipoles along line\n",
    "\n",
    "We can also specify values of conductivity for the background (sig0) and the two sphere anomalies (sig1 and sig2)."
   ]
  },
  {
   "cell_type": "code",
   "execution_count": 5,
   "metadata": {
    "collapsed": false
   },
   "outputs": [
    {
     "name": "stdout",
     "output_type": "stream",
     "text": [
      "\r",
      "Transmitter 0 of 10 -> Time:2.47004008293 sec "
     ]
    }
   ],
   "source": [
    "Simul_Fct = lambda a,b,n, sig0, sig1, sig2, stype: DC_Forward_PseudoSection.run(param = np.r_[a,b,n], sig=np.r_[sig0,sig1,sig2], stype = stype)\n",
    "\n",
    "interactive(Simul_Fct, a=FloatText(min=10.,max=40.,step=5.,value=30.),\n",
    "                        b=FloatText(min=10.,max=40.,step=5.,value=30.),\n",
    "                        n=FloatText(min=1,max=30,step=5,value=10.),\n",
    "                        sig0=FloatText(min=1e-4,max=1e+4,step=1e+1,value=1e-2),\n",
    "                        sig1=FloatText(min=1e-4,max=1e+4,step=1e+1,value=1e-1),\n",
    "                        sig2=FloatText(min=1e-4,max=1e+4,step=1e+1,value=1e-3),\n",
    "                        stype=ToggleButtons(options=['pdp','dpdp'],value='dpdp'))\n",
    "                       "
   ]
  },
  {
   "cell_type": "code",
   "execution_count": null,
   "metadata": {
    "collapsed": true
   },
   "outputs": [],
   "source": []
  }
 ],
 "metadata": {
  "kernelspec": {
   "display_name": "Python 2",
   "language": "python",
   "name": "python2"
  },
  "language_info": {
   "codemirror_mode": {
    "name": "ipython",
    "version": 2
   },
   "file_extension": ".py",
   "mimetype": "text/x-python",
   "name": "python",
   "nbconvert_exporter": "python",
   "pygments_lexer": "ipython2",
   "version": "2.7.11"
  }
 },
 "nbformat": 4,
 "nbformat_minor": 0
}
